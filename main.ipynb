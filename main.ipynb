{
 "cells": [
  {
   "cell_type": "markdown",
   "metadata": {
    "collapsed": false,
    "jupyter": {
     "outputs_hidden": false
    }
   },
   "source": [
    "# Full Data Processing Pipeline in Jupyter"
   ]
  },
  {
   "cell_type": "markdown",
   "metadata": {
    "collapsed": false,
    "jupyter": {
     "outputs_hidden": false
    }
   },
   "source": [
    "## Import RHD recordings and concatenate\n",
    "We assume they are in the same folder and have date & time in their filenames, \n",
    "so we can sort them in a proper order, but it's for users to ensure the continuity.\n",
    "\n",
    "Here, you can select a start file and end file, and in the next cell, the RHD files will\n",
    "be loaded and concantenated."
   ]
  },
  {
   "cell_type": "code",
   "execution_count": 1,
   "metadata": {
    "ExecuteTime": {
     "end_time": "2023-08-24T13:40:21.078865400Z",
     "start_time": "2023-08-24T13:40:20.970091400Z"
    }
   },
   "outputs": [
    {
     "data": {
      "application/vnd.jupyter.widget-view+json": {
       "model_id": "4613fd0ea9614940bc17173d35f412f1",
       "version_major": 2,
       "version_minor": 0
      },
      "text/plain": [
       "VBox(children=(TwoByTwoLayout(children=(Label(value='Starting RHD file:', layout=Layout(grid_area='top-left'))…"
      ]
     },
     "execution_count": 1,
     "metadata": {},
     "output_type": "execute_result"
    }
   ],
   "source": [
    "from pathlib import Path\n",
    "\n",
    "# find all rhd files in a folder by a pattern\n",
    "rhd_dir = Path(r'D:\\Wechat\\WeChat Files\\wxid_dy802x8wpmoa21\\FileStorage\\File\\2023-08')\n",
    "rhd_files = [i.name for i in rhd_dir.glob('*.rhd')]\n",
    "rhd_files.sort()\n",
    "\n",
    "# GUI\n",
    "import ipywidgets as widgets\n",
    "start_rhd = widgets.Dropdown(\n",
    "        options=rhd_files,\n",
    "        value=rhd_files[0]\n",
    "    )\n",
    "end_rhd = widgets.Dropdown(\n",
    "        options=rhd_files,\n",
    "        value=rhd_files[-1],\n",
    "    )\n",
    "\n",
    "def file_count(start, end):\n",
    "    s = rhd_files.index(start)\n",
    "    e = rhd_files.index(end)\n",
    "    print(f'Selection check: {e - s + 1} RHD files will be loaded.')\n",
    "    \n",
    "out = widgets.interactive_output(file_count, {'start': start_rhd, 'end': end_rhd})\n",
    "\n",
    "widgets.VBox([\n",
    "    widgets.TwoByTwoLayout(\n",
    "    top_left=widgets.Label('Starting RHD file:'),\n",
    "    bottom_left=start_rhd,\n",
    "    top_right=widgets.Label('Ending RHD file:'),\n",
    "    bottom_right=end_rhd,\n",
    "), out\n",
    "])\n"
   ]
  },
  {
   "cell_type": "markdown",
   "metadata": {},
   "source": [
    "---\n",
    "Load the selected files and concatenate them. We only load the `RHD2000 amplifier channel` from each file. This stream name\n",
    "might differ for different experiments."
   ]
  },
  {
   "cell_type": "code",
   "execution_count": 2,
   "metadata": {},
   "outputs": [
    {
     "data": {
      "application/vnd.jupyter.widget-view+json": {
       "model_id": "0028e52f8aa64d9d92ad84f2ce17664a",
       "version_major": 2,
       "version_minor": 0
      },
      "text/plain": [
       "TwoByTwoLayout(children=(Label(value='Loading RHD progress..', layout=Layout(grid_area='top-left')), IntProgre…"
      ]
     },
     "metadata": {},
     "output_type": "display_data"
    }
   ],
   "source": [
    "from spikeinterface import concatenate_recordings\n",
    "import spikeinterface.extractors as se\n",
    "rec = []\n",
    "a, b = rhd_files.index(start_rhd.value), rhd_files.index(end_rhd.value) + 1\n",
    "\n",
    "# GUI\n",
    "import ipywidgets as widgets\n",
    "prog = widgets.IntProgress(\n",
    "    value=0,\n",
    "    min=0,\n",
    "    max=b-a,\n",
    "    bar_style='success',\n",
    "    style={'bar_color': 'maroon'},\n",
    "    orientation='horizontal', \n",
    ")\n",
    "def file_count(prog):\n",
    "    print(f'{prog}/{b-a} loaded.')\n",
    "out = widgets.interactive_output(file_count, {'prog': prog})\n",
    "display(widgets.TwoByTwoLayout(\n",
    "    top_left=widgets.Label('Loading RHD progress..'),\n",
    "    bottom_left=prog,\n",
    "    bottom_right=out,\n",
    "    merge=False\n",
    "))\n",
    "\n",
    "# load and concatenate\n",
    "for i in rhd_files[a:b]:\n",
    "    rec.append(se.read_intan(rhd_dir / i, stream_name='RHD2000 amplifier channel'))\n",
    "    prog.value += 1\n",
    "rec = concatenate_recordings(rec)"
   ]
  },
  {
   "cell_type": "markdown",
   "metadata": {},
   "source": [
    "# Preprocessing\n",
    "\n",
    "Here, we execute 5 preprocessing steps for our data:\n",
    "1. filter bad channels based on measure impedance level\n",
    "2. filter bad channels using `spikeinterface`'s neighborhood_r2 method\n",
    "3. applying butterworth bandpass filter\n",
    "4. re-reference the signal\n",
    "5. clean machenical noise using our own method\n",
    "\n",
    "Some of them can be optional, like step 5, because `spikeinterface` and Kilosort2.5 have their way to do this.\n",
    "\n",
    "Bad channel filtering is recommended, but can be flexible. Step 1 is based on a priori information, while step 2 is based on the waveform itself. `spikeinterface` by default uses IBL's method, which assumes the probe to be like a rigid needle as neuropixel is, not applying to our case.\n",
    "\n",
    "Step 3 & 4 are rather like highpass filtering in time and space respectively. Since our probe can be large in size, re-referencing should be done.\n",
    "\n",
    "*The cells in this part are coded in a way you can optionally run each step, and check their waveforms*"
   ]
  },
  {
   "cell_type": "code",
   "execution_count": 82,
   "metadata": {},
   "outputs": [
    {
     "name": "stdout",
     "output_type": "stream",
     "text": [
      "None\n",
      "['0' '0' '0' '0' '0' '0' '0' '0' '0' '0' '0' '0' '0' '0' '0' '0' '0' '0'\n",
      " '0' '0' '0' '0' '0' '0' '0' '0' '0' '0' '0' '0' '0' '0' '0' '0' '0' '0'\n",
      " '0' '0' '0' '0' '0' '0' '0' '0' '0' '0' '0' '0' '0' '0' '0' '0' '0' '0'\n",
      " '0' '0' '0' '0' '0' '0' '0' '0' '0' '0' '1' '1' '1' '1' '1' '1' '1' '1'\n",
      " '1' '1' '1' '1' '1' '1' '1' '1' '1' '1' '1' '1' '1' '1' '1' '1' '1' '1'\n",
      " '1' '1' '1' '1' '1' '1' '1' '1' '1' '1' '1' '1' '1' '1' '1' '1' '1' '1'\n",
      " '1' '1' '1' '1' '1' '1' '1' '1' '1' '1' '1' '1' '1' '1' '1' '1' '1' '1'\n",
      " '1' '1']\n"
     ]
    }
   ],
   "source": [
    "# the result will be stored and updated in this variable, also add the probe here\n",
    "# rerun this if you need to reset the preprocessing workflow\n",
    "from probe import my_probe\n",
    "preproc = rec.set_probe(my_probe())"
   ]
  },
  {
   "cell_type": "markdown",
   "metadata": {},
   "source": [
    "### inspect the waveform\n",
    "You can always come back and run this section to see how the waveform changes."
   ]
  },
  {
   "cell_type": "code",
   "execution_count": 2,
   "metadata": {},
   "outputs": [
    {
     "ename": "NameError",
     "evalue": "name 'widgets' is not defined",
     "output_type": "error",
     "traceback": [
      "\u001b[1;31m---------------------------------------------------------------------------\u001b[0m",
      "\u001b[1;31mNameError\u001b[0m                                 Traceback (most recent call last)",
      "Cell \u001b[1;32mIn[2], line 3\u001b[0m\n\u001b[0;32m      1\u001b[0m \u001b[38;5;28;01mimport\u001b[39;00m \u001b[38;5;21;01mspikeinterface\u001b[39;00m\u001b[38;5;21;01m.\u001b[39;00m\u001b[38;5;21;01mwidgets\u001b[39;00m \u001b[38;5;28;01mas\u001b[39;00m \u001b[38;5;21;01msw\u001b[39;00m\n\u001b[0;32m      2\u001b[0m \u001b[38;5;28;01mimport\u001b[39;00m \u001b[38;5;21;01mmatplotlib\u001b[39;00m\u001b[38;5;21;01m.\u001b[39;00m\u001b[38;5;21;01mpyplot\u001b[39;00m \u001b[38;5;28;01mas\u001b[39;00m \u001b[38;5;21;01mplt\u001b[39;00m\n\u001b[1;32m----> 3\u001b[0m \u001b[38;5;129m@widgets\u001b[39m\u001b[38;5;241m.\u001b[39minteract(start_time\u001b[38;5;241m=\u001b[39m(\u001b[38;5;241m0\u001b[39m, preproc\u001b[38;5;241m.\u001b[39mget_duration()), end_time\u001b[38;5;241m=\u001b[39m(\u001b[38;5;241m0\u001b[39m, preproc\u001b[38;5;241m.\u001b[39mget_duration()), \n\u001b[0;32m      4\u001b[0m                   start_channel\u001b[38;5;241m=\u001b[39m(\u001b[38;5;241m0\u001b[39m, preproc\u001b[38;5;241m.\u001b[39mget_num_channels()), end_channel\u001b[38;5;241m=\u001b[39m(\u001b[38;5;241m0\u001b[39m, preproc\u001b[38;5;241m.\u001b[39mget_num_channels()\u001b[38;5;241m-\u001b[39m\u001b[38;5;241m1\u001b[39m))\n\u001b[0;32m      5\u001b[0m \u001b[38;5;28;01mdef\u001b[39;00m \u001b[38;5;21mplot_ts\u001b[39m(start_time\u001b[38;5;241m=\u001b[39m\u001b[38;5;241m0\u001b[39m, end_time\u001b[38;5;241m=\u001b[39m\u001b[38;5;241m10\u001b[39m, start_channel\u001b[38;5;241m=\u001b[39m\u001b[38;5;241m0\u001b[39m, end_channel\u001b[38;5;241m=\u001b[39m\u001b[38;5;241m15\u001b[39m, show_channel_ids\u001b[38;5;241m=\u001b[39m\u001b[38;5;28;01mTrue\u001b[39;00m):\n\u001b[0;32m      6\u001b[0m     channels \u001b[38;5;241m=\u001b[39m preproc\u001b[38;5;241m.\u001b[39mget_channel_ids()[start_channel: end_channel\u001b[38;5;241m+\u001b[39m\u001b[38;5;241m1\u001b[39m]\n\u001b[0;32m      7\u001b[0m     sw\u001b[38;5;241m.\u001b[39mplot_timeseries(preproc, channel_ids\u001b[38;5;241m=\u001b[39mchannels, time_range\u001b[38;5;241m=\u001b[39m(start_time, end_time), add_legend\u001b[38;5;241m=\u001b[39m\u001b[38;5;28;01mFalse\u001b[39;00m, show_channel_ids\u001b[38;5;241m=\u001b[39mshow_channel_ids)\n",
      "\u001b[1;31mNameError\u001b[0m: name 'widgets' is not defined"
     ]
    }
   ],
   "source": [
    "import spikeinterface.widgets as sw\n",
    "import matplotlib.pyplot as plt\n",
    "@widgets.interact(start_time=(0, preproc.get_duration()), end_time=(0, preproc.get_duration()), \n",
    "                  start_channel=(0, preproc.get_num_channels()), end_channel=(0, preproc.get_num_channels()-1))\n",
    "def plot_ts(start_time=0, end_time=10, start_channel=0, end_channel=15, show_channel_ids=True):\n",
    "    channels = preproc.get_channel_ids()[start_channel: end_channel+1]\n",
    "    sw.plot_timeseries(preproc, channel_ids=channels, time_range=(start_time, end_time), add_legend=False, show_channel_ids=show_channel_ids)"
   ]
  },
  {
   "cell_type": "markdown",
   "metadata": {},
   "source": [
    "### 1. filter by impedance\n",
    "Based on the impedance magnitude of each electrode, and set an upper threshold for them."
   ]
  },
  {
   "cell_type": "code",
   "execution_count": 72,
   "metadata": {},
   "outputs": [
    {
     "data": {
      "image/png": "[encoded data removed]",
      "text/plain": [
       "<Figure size 640x480 with 1 Axes>"
      ]
     },
     "metadata": {},
     "output_type": "display_data"
    },
    {
     "data": {
      "application/vnd.jupyter.widget-view+json": {
       "model_id": "97156814db53452db76bb3b45d71ae4d",
       "version_major": 2,
       "version_minor": 0
      },
      "text/plain": [
       "FloatText(value=5000000.0, description='Impedance cap:', style=DescriptionStyle(description_width='initial'))"
      ]
     },
     "metadata": {},
     "output_type": "display_data"
    }
   ],
   "source": [
    "import pandas as pd\n",
    "\n",
    "# our impedance table\n",
    "imped_tab = pd.read_csv(r\"D:\\Wechat\\WeChat Files\\wxid_dy802x8wpmoa21\\FileStorage\\File\\2023-08\\IMP.csv\")\n",
    "names = []\n",
    "for i in imped_tab['Channel Name']:\n",
    "    id = 0 if i.startswith('A') else 64\n",
    "    id += int(i.split('-')[1])\n",
    "    names.append(str(id))\n",
    "imped_tab = imped_tab['Impedance Magnitude at 1000 Hz (ohms)']\n",
    "imped_tab.index = names\n",
    "\n",
    "import matplotlib.pyplot as plt\n",
    "plt.hist(imped_tab, bins=20)\n",
    "plt.show()\n",
    "impedance_thr = widgets.FloatText(description='Impedance cap:', value=0.5e7, style={'description_width': 'initial'})\n",
    "display(thr)"
   ]
  },
  {
   "cell_type": "code",
   "execution_count": 83,
   "metadata": {},
   "outputs": [
    {
     "data": {
      "text/plain": [
       "ChannelSliceRecording: 92 channels - 20.0kHz - 1 segments - 3,601,920 samples \n",
       "                       180.10s (3.00 minutes) - uint16 dtype - 632.05 MiB"
      ]
     },
     "execution_count": 83,
     "metadata": {},
     "output_type": "execute_result"
    }
   ],
   "source": [
    "preproc = preproc.remove_channels([i for i in preproc.get_channel_ids() if imped_tab[i] > impedance_thr.value])\n",
    "preproc  # show the number of channels left"
   ]
  },
  {
   "cell_type": "markdown",
   "metadata": {},
   "source": [
    "### 2. filter by neighborhood\n",
    "There are many parameters for this function in `spikeinterface`, here we provide you with a simple UI.\n",
    "Note that this can only be done with channels' spatial locations, and you need to specify the probe setting for this."
   ]
  },
  {
   "cell_type": "code",
   "execution_count": 74,
   "metadata": {},
   "outputs": [
    {
     "data": {
      "application/vnd.jupyter.widget-view+json": {
       "model_id": "c463313ff947454dacd7f374c5fd0de5",
       "version_major": 2,
       "version_minor": 0
      },
      "text/plain": [
       "GridspecLayout(children=(FloatSlider(value=0.95, description='r2 thr', layout=Layout(grid_area='widget001'), m…"
      ]
     },
     "metadata": {},
     "output_type": "display_data"
    }
   ],
   "source": [
    "grid = widgets.GridspecLayout(2, 3)\n",
    "grid[0, 0] = widgets.FloatSlider(description='r2 thr', value=.95, min=0, max=1, step=.01)\n",
    "grid[0, 1] = widgets.FloatText(description='radius (um)', value=30)\n",
    "grid[0, 2] = widgets.FloatText(description='highpass cutoff', value=300, style={'description_width': 'initial'})\n",
    "grid[1, 0] = widgets.IntText(description='#rand chunk', value=10)\n",
    "grid[1, 1] = widgets.FloatText(description='welch window (ms)', value=10, style={'description_width': 'initial'})\n",
    "grid[1, 2] = widgets.FloatText(description='chunk duration (s)', value=.3, style={'description_width': 'initial'})\n",
    "display(grid)"
   ]
  },
  {
   "cell_type": "code",
   "execution_count": 84,
   "metadata": {},
   "outputs": [
    {
     "data": {
      "text/plain": [
       "ChannelSliceRecording: 92 channels - 20.0kHz - 1 segments - 3,601,920 samples \n",
       "                       180.10s (3.00 minutes) - uint16 dtype - 632.05 MiB"
      ]
     },
     "execution_count": 84,
     "metadata": {},
     "output_type": "execute_result"
    }
   ],
   "source": [
    "import spikeinterface.preprocessing as spre\n",
    "bd, lb = spre.detect_bad_channels(preproc, 'neighborhood_r2',\n",
    "                                  neighborhood_r2_threshold=grid[0, 0].value,\n",
    "                                  neighborhood_r2_radius_um=grid[0, 1].value,\n",
    "                                  highpass_filter_cutoff=grid[0, 2].value,\n",
    "                                  num_random_chunks=grid[1, 0].value,\n",
    "                                  welch_window_ms=grid[1, 1].value,\n",
    "                                  chunk_duration_s=grid[1, 2].value)\n",
    "preproc = preproc.remove_channels(bd)\n",
    "preproc"
   ]
  },
  {
   "cell_type": "markdown",
   "metadata": {},
   "source": [
    "### 3. butterworth bandpass filter"
   ]
  },
  {
   "cell_type": "code",
   "execution_count": 81,
   "metadata": {},
   "outputs": [
    {
     "data": {
      "application/vnd.jupyter.widget-view+json": {
       "model_id": "e457cdabbf4d4b5199dc59448b5f278c",
       "version_major": 2,
       "version_minor": 0
      },
      "text/plain": [
       "TwoByTwoLayout(children=(FloatText(value=250.0, description='low pass cutoff', layout=Layout(grid_area='top-le…"
      ]
     },
     "execution_count": 81,
     "metadata": {},
     "output_type": "execute_result"
    }
   ],
   "source": [
    "lp = widgets.FloatText(description='low pass cutoff', value=250, style={'description_width': 'initial'})\n",
    "hp = widgets.FloatText(description='high pass cutoff', value=6000, style={'description_width': 'initial'})\n",
    "order = widgets.IntText(description='order', value=4)\n",
    "iter = widgets.IntText(description='iteration', value=1)\n",
    "\n",
    "widgets.TwoByTwoLayout(\n",
    "    top_left=lp, top_right=hp, bottom_left=order, bottom_right=iter\n",
    ")"
   ]
  },
  {
   "cell_type": "code",
   "execution_count": 86,
   "metadata": {},
   "outputs": [
    {
     "data": {
      "text/plain": [
       "FilterRecording: 92 channels - 20.0kHz - 1 segments - 3,601,920 samples - 180.10s (3.00 minutes) \n",
       "                 int16 dtype - 632.05 MiB"
      ]
     },
     "execution_count": 86,
     "metadata": {},
     "output_type": "execute_result"
    }
   ],
   "source": [
    "for i in range(iter.value):\n",
    "    preproc = spre.filter(preproc, [lp.value, hp.value], 'bandpass', order.value)\n",
    "preproc"
   ]
  },
  {
   "cell_type": "markdown",
   "metadata": {},
   "source": [
    "### 4. re-reference\n",
    "There are 2 operators (median/average) to compute the referencing and 3 modes for the reference (glboal/local/single), but here\n",
    "we don't consider single for our probe and thus there is no need to specify the channels.\n",
    "\n",
    "When you choose the 'local' mode, you will need the input of the 2 radius to include and exclude the surrounding electrodes.\n",
    "\n",
    "Neuropixel data would use a phase_shift before re-referencing and mechanical drift detection, but since we have no information about the sampling delay for each electrode, this is left undone."
   ]
  },
  {
   "cell_type": "code",
   "execution_count": 88,
   "metadata": {},
   "outputs": [
    {
     "data": {
      "application/vnd.jupyter.widget-view+json": {
       "model_id": "2bacd274c2f44029a20cb86119d4585c",
       "version_major": 2,
       "version_minor": 0
      },
      "text/plain": [
       "TwoByTwoLayout(children=(Dropdown(description='operator', index=1, layout=Layout(grid_area='top-left'), option…"
      ]
     },
     "execution_count": 88,
     "metadata": {},
     "output_type": "execute_result"
    }
   ],
   "source": [
    "op = widgets.Dropdown(description='operator', value='median', options=['average', 'median'])\n",
    "ref = widgets.Dropdown(description='reference', value='global', options=['global', 'local'])\n",
    "local_r1 = widgets.IntText(description='local exclude radius', value=30, style={'description_width': 'initial'})\n",
    "local_r2 = widgets.IntText(description='local include radius', value=55, style={'description_width': 'initial'})\n",
    "\n",
    "widgets.TwoByTwoLayout(\n",
    "    top_left=op, top_right=ref, bottom_left=local_r1, bottom_right=local_r2\n",
    ")"
   ]
  },
  {
   "cell_type": "code",
   "execution_count": 92,
   "metadata": {},
   "outputs": [
    {
     "data": {
      "text/plain": [
       "CommonReferenceRecording: 92 channels - 20.0kHz - 1 segments - 3,601,920 samples \n",
       "                          180.10s (3.00 minutes) - int16 dtype - 632.05 MiB"
      ]
     },
     "execution_count": 92,
     "metadata": {},
     "output_type": "execute_result"
    }
   ],
   "source": [
    "preproc = spre.common_reference(preproc, operator=op.value, reference=ref.value, local_radius=(local_r1.value, local_r2.value))\n",
    "preproc"
   ]
  },
  {
   "cell_type": "markdown",
   "metadata": {},
   "source": [
    "### 5. clean mechanical noise\n",
    "\n",
    "This is a self-defined and optional step. We use a very simple method that first average all the channel and then check the max autocorrelation of each interval and clear parts exceeding a multiple of the median autocorrelation. `spikeinterface` uses sophisticated method to decide whether to do the correction and interpolate the frames."
   ]
  },
  {
   "cell_type": "code",
   "execution_count": 104,
   "metadata": {},
   "outputs": [
    {
     "data": {
      "application/vnd.jupyter.widget-view+json": {
       "model_id": "d205bc99cd3f4764bdd96a7fc6f3e696",
       "version_major": 2,
       "version_minor": 0
      },
      "text/plain": [
       "TwoByTwoLayout(children=(IntText(value=2000, description='window', layout=Layout(grid_area='top-left')), IntTe…"
      ]
     },
     "execution_count": 104,
     "metadata": {},
     "output_type": "execute_result"
    }
   ],
   "source": [
    "window = widgets.IntText(description='window', value=2000)\n",
    "interval = widgets.IntText(description='interval', value=200)\n",
    "noise_cap = widgets.FloatText(description='noise cap', value=2.5)\n",
    "\n",
    "widgets.TwoByTwoLayout(\n",
    "    top_left=window, top_right=interval, bottom_left=noise_cap, merge=False\n",
    ")"
   ]
  },
  {
   "cell_type": "code",
   "execution_count": 147,
   "metadata": {},
   "outputs": [
    {
     "data": {
      "text/plain": [
       "NumpyRecording: 92 channels - 20.0kHz - 1 segments - 3,601,920 samples - 180.10s (3.00 minutes) \n",
       "                int16 dtype - 632.05 MiB"
      ]
     },
     "execution_count": 147,
     "metadata": {},
     "output_type": "execute_result"
    }
   ],
   "source": [
    "import numpy as np\n",
    "from numba import njit, prange\n",
    "\n",
    "\n",
    "@njit(parallel=True, fastmath=True)\n",
    "def get_mech_noise(data, mov_window, interval):\n",
    "    mov_ccnoise = np.zeros_like(data)\n",
    "    for j in prange(data.shape[0] // interval):\n",
    "        i = j * interval\n",
    "        idx0 = max(0, i + (interval - mov_window) // 2)\n",
    "        idx1 = min(data.shape[0], i + (interval + mov_window) // 2)\n",
    "        v = data[idx0: idx1]\n",
    "        mov_ccnoise[i: i + interval] = np.correlate(v, v).max()\n",
    "    mov_ccnoise = (mov_ccnoise - mov_ccnoise.min()) / (mov_ccnoise.max() - mov_ccnoise.min())\n",
    "    return mov_ccnoise\n",
    "\n",
    "\n",
    "tr = preproc.get_traces()\n",
    "ref_data = np.mean(tr, axis=1)  # compute average across channels\n",
    "\n",
    "mov_ccnoise = get_mech_noise(ref_data, window.value, interval.value)\n",
    "tr[mov_ccnoise > np.median(mov_ccnoise) * noise_cap.value] = 0\n",
    "\n",
    "preproc = se.NumpyRecording(tr, preproc.get_sampling_frequency(), [0], preproc.get_channel_ids()).set_probe(preproc.get_probe())\n",
    "preproc"
   ]
  },
  {
   "cell_type": "markdown",
   "metadata": {},
   "source": [
    "### save the recording"
   ]
  },
  {
   "cell_type": "code",
   "execution_count": null,
   "metadata": {},
   "outputs": [
    {
     "name": "stdout",
     "output_type": "stream",
     "text": [
      "write_binary_recording with n_jobs = 10 and chunk_size = 20000\n"
     ]
    }
   ],
   "source": [
    "job_kwargs = dict(n_jobs=10, chunk_duration='1s', progress_bar=True)\n",
    "base_folder = Path('data')\n",
    "preproc = preproc.save(folder=base_folder / 'preprocess', format='binary', **job_kwargs)"
   ]
  },
  {
   "cell_type": "markdown",
   "metadata": {},
   "source": [
    "## Spike sorting (Kilosort 2.5)"
   ]
  },
  {
   "cell_type": "code",
   "execution_count": 1,
   "metadata": {},
   "outputs": [
    {
     "data": {
      "text/plain": [
       "1"
      ]
     },
     "execution_count": 1,
     "metadata": {},
     "output_type": "execute_result"
    }
   ],
   "source": [
    "sorting_KS2 = ss.run_sorter(sorter_name=\"kilosort2_5\", recording=preproc)"
   ]
  }
 ],
 "metadata": {
  "kernelspec": {
   "display_name": "Python 3 (ipykernel)",
   "language": "python",
   "name": "python3"
  },
  "language_info": {
   "codemirror_mode": {
    "name": "ipython",
    "version": 3
   },
   "file_extension": ".py",
   "mimetype": "text/x-python",
   "name": "python",
   "nbconvert_exporter": "python",
   "pygments_lexer": "ipython3",
   "version": "3.10.4"
  }
 },
 "nbformat": 4,
 "nbformat_minor": 4
}
